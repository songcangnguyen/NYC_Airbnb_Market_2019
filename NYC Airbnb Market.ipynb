{
 "cells": [
  {
   "cell_type": "code",
   "execution_count": 1,
   "id": "246ce604",
   "metadata": {},
   "outputs": [
    {
     "name": "stdout",
     "output_type": "stream",
     "text": [
      "   listing_id        price                nbhood_full\n",
      "0        2595  225 dollars         Manhattan, Midtown\n",
      "1        3831   89 dollars     Brooklyn, Clinton Hill\n",
      "2        5099  200 dollars     Manhattan, Murray Hill\n",
      "3        5178   79 dollars  Manhattan, Hell's Kitchen\n",
      "4        5238  150 dollars       Manhattan, Chinatown \n",
      "    listing_id                                description        room_type\n",
      "0        2595                      Skylit Midtown Castle  Entire home/apt\n",
      "1        3831            Cozy Entire Floor of Brownstone  Entire home/apt\n",
      "2        5099  Large Cozy 1 BR Apartment In Midtown East  Entire home/apt\n",
      "3        5178            Large Furnished Room Near B'way     private room\n",
      "4        5238         Cute & Cozy Lower East Side 1 bdrm  Entire home/apt \n",
      "    listing_id    host_name   last_review\n",
      "0        2595     Jennifer   May 21 2019\n",
      "1        3831  LisaRoxanne  July 05 2019\n",
      "2        5099        Chris  June 22 2019\n",
      "3        5178     Shunichi  June 24 2019\n",
      "4        5238          Ben  June 09 2019\n"
     ]
    }
   ],
   "source": [
    "import pandas as pd\n",
    "import numpy as np \n",
    "import datetime as dt \n",
    "\n",
    "#Load airbnb_price.csv, prices \n",
    "prices = pd.read_csv(\"Data/airbnb_price.csv\")\n",
    "\n",
    "#load airbnb_room_type.xlsx, xls \n",
    "xls = pd.ExcelFile(\"Data/airbnb_room_type.xlsx\")\n",
    "\n",
    "#Parse the first sheet from xls, room_types \n",
    "room_types = xls.parse(0)\n",
    "\n",
    "#Load airbnb_last_review.tsv, reviews \n",
    "reviews = pd.read_csv(\"Data/airbnb_last_review.tsv\", sep = \"\\t\")\n",
    "\n",
    "#Print the first five rows each dataframe \n",
    "print(prices.head(), \"\\n\", room_types.head(), \"\\n\", reviews.head())"
   ]
  },
  {
   "cell_type": "code",
   "execution_count": 2,
   "id": "06cd9331",
   "metadata": {},
   "outputs": [
    {
     "name": "stdout",
     "output_type": "stream",
     "text": [
      "count    25209.000000\n",
      "mean       141.777936\n",
      "std        147.349137\n",
      "min          0.000000\n",
      "25%         69.000000\n",
      "50%        105.000000\n",
      "75%        175.000000\n",
      "max       7500.000000\n",
      "Name: price, dtype: float64\n"
     ]
    }
   ],
   "source": [
    "#Cleaning the price column \n",
    "#Remove whitespace and string characters\n",
    "prices[\"price\"]= prices[\"price\"].str.replace(\"dollars\",\"\")\n",
    "\n",
    "#Convert to numeric \n",
    "prices[\"price\"]=pd.to_numeric(prices[\"price\"])\n",
    "\n",
    "#print descriptive statistic for the price column \n",
    "print(prices[\"price\"].describe())"
   ]
  },
  {
   "cell_type": "code",
   "execution_count": 3,
   "id": "5a37513d",
   "metadata": {},
   "outputs": [
    {
     "name": "stdout",
     "output_type": "stream",
     "text": [
      "Average price per night for Airbnb listing in NYC is $141.82.\n"
     ]
    }
   ],
   "source": [
    "#Calculate average price \n",
    "#subset free_listing prices = $0\n",
    "free_listings = prices[\"price\"]==0 \n",
    "\n",
    "#update prices by removing all free listings from prices \n",
    "prices = prices.loc[~free_listings]\n",
    "\n",
    "#Calculate the average price, avg_price \n",
    "avg_price = round(prices[\"price\"].mean(),2)\n",
    "\n",
    "print(\"Average price per night for Airbnb listing in NYC is ${}.\".format(avg_price))"
   ]
  },
  {
   "cell_type": "code",
   "execution_count": 4,
   "id": "a90b6984",
   "metadata": {},
   "outputs": [
    {
     "name": "stdout",
     "output_type": "stream",
     "text": [
      "Airbnb monthly cost are $4313.61, and Private Market monthly cost are $3,100.00.\n"
     ]
    }
   ],
   "source": [
    "#Comparing costs to the private rental market \n",
    "\n",
    "#Add column to prices Dataframe, price_per_month \n",
    "prices[\"price_per_month\"] = prices[\"price\"]*365/12 \n",
    "\n",
    "#Calculate average_price per month \n",
    "average_price_per_month = round(prices[\"price_per_month\"].mean(),2)\n",
    "\n",
    "#Compare Airbnb and rental market \n",
    "print(\"Airbnb monthly cost are ${}, and Private Market monthly cost are {}.\".format(average_price_per_month,\"$3,100.00\"))"
   ]
  },
  {
   "cell_type": "code",
   "execution_count": 5,
   "id": "aee5d036",
   "metadata": {},
   "outputs": [
    {
     "name": "stdout",
     "output_type": "stream",
     "text": [
      "entire home/apt    13266\n",
      "private room       11356\n",
      "shared room          587\n",
      "Name: room_type, dtype: int64\n"
     ]
    }
   ],
   "source": [
    "#Cleaning room type column\n",
    "\n",
    "#lowercase \n",
    "room_types[\"room_type\"] = room_types[\"room_type\"].str.lower()\n",
    "\n",
    "#Update room_type column to category data type , same like groupby\n",
    "room_types[\"room_type\"] = room_types[\"room_type\"].astype(\"category\")\n",
    "\n",
    "#count variable_room_frequencies \n",
    "room_frequencies = room_types[\"room_type\"].value_counts()\n",
    "\n",
    "print(room_frequencies)"
   ]
  },
  {
   "cell_type": "code",
   "execution_count": 6,
   "id": "b0515bec",
   "metadata": {},
   "outputs": [
    {
     "name": "stdout",
     "output_type": "stream",
     "text": [
      "Latest review is 2019-01-01, the earliest review is 2019-07-09\n"
     ]
    }
   ],
   "source": [
    "#Find the timeframe (last review, earliest review) \n",
    "\n",
    "#Change data type of last_review column to datetime \n",
    "reviews[\"last_review\"] = pd.to_datetime(reviews[\"last_review\"])\n",
    "\n",
    "#Create first_reviewed, the earliest review date \n",
    "first_reviewed = reviews[\"last_review\"].dt.date.min() \n",
    "\n",
    "#Create last_review, the latest review date \n",
    "last_reviewed = reviews[\"last_review\"].dt.date.max() \n",
    "\n",
    "print(\"Latest review is {}, the earliest review is {}\".format(first_reviewed,last_reviewed))"
   ]
  },
  {
   "cell_type": "code",
   "execution_count": 8,
   "id": "15af9253",
   "metadata": {},
   "outputs": [
    {
     "name": "stdout",
     "output_type": "stream",
     "text": [
      "There are <bound method DataFrame.dropna of        listing_id  price                 nbhood_full  price_per_month  \\\n",
      "0            2595  225.0          Manhattan, Midtown      6843.750000   \n",
      "1            3831   89.0      Brooklyn, Clinton Hill      2707.083333   \n",
      "2            5099  200.0      Manhattan, Murray Hill      6083.333333   \n",
      "3            5178   79.0   Manhattan, Hell's Kitchen      2402.916667   \n",
      "4            5238  150.0        Manhattan, Chinatown      4562.500000   \n",
      "...           ...    ...                         ...              ...   \n",
      "25197    36425863  129.0  Manhattan, Upper East Side      3923.750000   \n",
      "25198    36427429   45.0            Queens, Flushing      1368.750000   \n",
      "25199    36438336  235.0  Staten Island, Great Kills      7147.916667   \n",
      "25200    36442252  100.0           Bronx, Mott Haven      3041.666667   \n",
      "25201    36455809   30.0          Brooklyn, Bushwick       912.500000   \n",
      "\n",
      "                                      description        room_type  \\\n",
      "0                           Skylit Midtown Castle  entire home/apt   \n",
      "1                 Cozy Entire Floor of Brownstone  entire home/apt   \n",
      "2       Large Cozy 1 BR Apartment In Midtown East  entire home/apt   \n",
      "3                 Large Furnished Room Near B'way     private room   \n",
      "4              Cute & Cozy Lower East Side 1 bdrm  entire home/apt   \n",
      "...                                           ...              ...   \n",
      "25197  Lovely Privet Bedroom with Privet Restroom     private room   \n",
      "25198                    No.2 with queen size bed     private room   \n",
      "25199                             Seas The Moment     private room   \n",
      "25200               1B-1B apartment near by Metro  entire home/apt   \n",
      "25201     Cozy Private Room in Bushwick, Brooklyn     private room   \n",
      "\n",
      "         host_name last_review  \n",
      "0         Jennifer  2019-05-21  \n",
      "1      LisaRoxanne  2019-07-05  \n",
      "2            Chris  2019-06-22  \n",
      "3         Shunichi  2019-06-24  \n",
      "4              Ben  2019-06-09  \n",
      "...            ...         ...  \n",
      "25197        Rusaa  2019-07-07  \n",
      "25198         H Ai  2019-07-07  \n",
      "25199          Ben  2019-07-07  \n",
      "25200       Blaine  2019-07-07  \n",
      "25201    Christine  2019-07-08  \n",
      "\n",
      "[25184 rows x 8 columns]> duplicates in the DataFrame.\n"
     ]
    }
   ],
   "source": [
    "#Joining the Dataframe \n",
    "#Merge prices and room_types to create rooms_and_prices\n",
    "room_and_prices = prices.merge(room_types, how = \"outer\", on = \"listing_id\")\n",
    "\n",
    "#Merge room_and_prices with reviews \n",
    "airbnb_merged = room_and_prices.merge(reviews,how=\"outer\", on = \"listing_id\")\n",
    "\n",
    "#Drop missing values from Airbnb_merged\n",
    "airbnb_merged.dropna(inplace=True)\n",
    "\n",
    "#Check for duplicate value \n",
    "print(\"There are {} duplicates in the DataFrame.\".format(airbnb_merged.dropna))"
   ]
  },
  {
   "cell_type": "code",
   "execution_count": 9,
   "id": "70923d01",
   "metadata": {},
   "outputs": [
    {
     "name": "stdout",
     "output_type": "stream",
     "text": [
      "                     sum    mean  median  count\n",
      "borough                                        \n",
      "Manhattan      1898417.0  184.04   149.0  10315\n",
      "Brooklyn       1275250.0  122.02    95.0  10451\n",
      "Queens          320715.0   92.83    70.0   3455\n",
      "Staten Island    22974.0   86.04    71.0    267\n",
      "Bronx            55156.0   79.25    65.0    696\n"
     ]
    }
   ],
   "source": [
    "#Analyst listing prices by NYC borough \n",
    "\n",
    "#Extract information from the nbhood_full column and store as new column, borough \n",
    "airbnb_merged[\"borough\"] = airbnb_merged[\"nbhood_full\"].str.partition(\",\")[0]\n",
    "\n",
    "#Group by borough and calculate summary statistics\n",
    "boroughs = airbnb_merged.groupby(\"borough\")[\"price\"].agg([\"sum\",\"mean\",\"median\",\"count\"])\n",
    "\n",
    "#Round boroughs to 2 decimal places, and sort by mean in descending order \n",
    "boroughs = boroughs.round(2).sort_values(\"mean\",ascending=False)\n",
    "\n",
    "print(boroughs)"
   ]
  },
  {
   "cell_type": "code",
   "execution_count": 10,
   "id": "cfc1e346",
   "metadata": {},
   "outputs": [
    {
     "name": "stdout",
     "output_type": "stream",
     "text": [
      "borough        price_range\n",
      "Bronx          Budget          381\n",
      "               Average         285\n",
      "               Expensive        25\n",
      "               Extravagant       5\n",
      "Brooklyn       Budget         3194\n",
      "               Average        5532\n",
      "               Expensive      1466\n",
      "               Extravagant     259\n",
      "Manhattan      Budget         1148\n",
      "               Average        5285\n",
      "               Expensive      3072\n",
      "               Extravagant     810\n",
      "Queens         Budget         1631\n",
      "               Average        1505\n",
      "               Expensive       291\n",
      "               Extravagant      28\n",
      "Staten Island  Budget          124\n",
      "               Average         123\n",
      "               Expensive        20\n",
      "               Extravagant       0\n",
      "Name: price_range, dtype: int64\n"
     ]
    }
   ],
   "source": [
    "#Create labels for price range, label_names \n",
    "label_names = [\"Budget\",\"Average\",\"Expensive\",\"Extravagant\"]\n",
    "\n",
    "#Label range \n",
    "ranges = [0,69,175,350,np.inf]\n",
    "\n",
    "#Insert new column, price range, into Dataframe \n",
    "airbnb_merged[\"price_range\"]= pd.cut(airbnb_merged[\"price\"], bins = ranges, labels = label_names)\n",
    "\n",
    "#Calculate borough and price_range frequencies, prices_by_borough\n",
    "prices_by_borough = airbnb_merged.groupby([\"borough\",\"price_range\"])[\"price_range\"].count()\n",
    "print(prices_by_borough)"
   ]
  },
  {
   "cell_type": "code",
   "execution_count": 13,
   "id": "da2b2cbb",
   "metadata": {},
   "outputs": [],
   "source": [
    "airbnb_merged.to_excel(r'C:\\Users\\cangn\\Downloads\\project\\NYC Airbnb Data Analysis\\Airbnb_merged.xlsx',index=False)"
   ]
  },
  {
   "cell_type": "code",
   "execution_count": null,
   "id": "e8cb55b9",
   "metadata": {},
   "outputs": [],
   "source": []
  }
 ],
 "metadata": {
  "kernelspec": {
   "display_name": "Python 3 (ipykernel)",
   "language": "python",
   "name": "python3"
  },
  "language_info": {
   "codemirror_mode": {
    "name": "ipython",
    "version": 3
   },
   "file_extension": ".py",
   "mimetype": "text/x-python",
   "name": "python",
   "nbconvert_exporter": "python",
   "pygments_lexer": "ipython3",
   "version": "3.10.9"
  }
 },
 "nbformat": 4,
 "nbformat_minor": 5
}
